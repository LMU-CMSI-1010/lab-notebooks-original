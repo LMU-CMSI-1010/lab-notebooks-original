{
  "cells": [
    {
      "cell_type": "markdown",
      "metadata": {
        "id": "PEbajVsNQ2Yc"
      },
      "source": [
        "<a href=\"https://colab.research.google.com/github/LMU-CMSI-1010/lab-notebooks-original/blob/main/Lab09.ipynb\" target=\"_parent\"><img src=\"https://colab.research.google.com/assets/colab-badge.svg\" alt=\"Open In Colab\"/></a>"
      ]
    },
    {
      "cell_type": "markdown",
      "metadata": {
        "id": "9aXfrLXg9seM"
      },
      "source": [
        "# Lab 09 Choosing Data Structures\n",
        "In this lab you will review using many of the data types we have used in class. We will also allow you to select which data structure from lists, tuples, and dictionaries that you would like to use to solve each set of problems. You have freedom to solve these problems however you'd like.\n",
        "\n"
      ]
    },
    {
      "cell_type": "markdown",
      "metadata": {
        "id": "NeQK-bkp3AKI"
      },
      "source": [
        "## Warm-Up: DIY And/Or\n",
        "\n",
        "Before diving into data structures, let’s review some earlier basics on expressions, conditionals, and functions.\n",
        "\n",
        "The scenario—pretend we have experienced a Python update catastrophe! All of a sudden, the operators `and` and `or` are no longer available in Python.\n",
        "\n",
        "### And/Or review\n",
        "\n",
        "Our mission: build up `and` and `or` functions, of course without using `and` and `or`. First, let’s review what `and` and `or` do:"
      ]
    },
    {
      "cell_type": "code",
      "execution_count": null,
      "metadata": {
        "colab": {
          "base_uri": "https://localhost:8080/"
        },
        "id": "9sggpWEB33fV",
        "outputId": "49d24f44-6532-4733-d575-8c24d2c9604b"
      },
      "outputs": [
        {
          "name": "stdout",
          "output_type": "stream",
          "text": [
            "True and True == True\n",
            "True and False == False\n",
            "False and True == False\n",
            "False and False == False\n",
            "\n",
            "True or True == True\n",
            "True or False == True\n",
            "False or True == True\n",
            "False or False == False\n"
          ]
        }
      ],
      "source": [
        "# Quick review of `and` and `or` (as well as types and loops!).\n",
        "for left_boolean in (True, False):\n",
        "    for right_boolean in (True, False):\n",
        "        print(left_boolean, 'and', right_boolean, '==',\n",
        "              left_boolean and right_boolean)\n",
        "\n",
        "print() # Blank line for spacing.\n",
        "\n",
        "for left_boolean in (True, False):\n",
        "    for right_boolean in (True, False):\n",
        "        print(left_boolean, 'or', right_boolean, '==',\n",
        "              left_boolean or right_boolean)"
      ]
    },
    {
      "cell_type": "markdown",
      "metadata": {
        "id": "3NnTCLBI5nsb"
      },
      "source": [
        "### Roll your own\n",
        "\n",
        "Now, **without** using `and` and `or`, **write `my_and` and `my_or` functions that behave exactly like our lost operators!**"
      ]
    },
    {
      "cell_type": "code",
      "execution_count": null,
      "metadata": {
        "id": "B0q5svPu53OF"
      },
      "outputs": [],
      "source": [
        "def my_and(left, right):\n",
        "    \"\"\"TODO: A workalike for the `and` operator.\"\"\"\n",
        "    pass\n",
        "\n",
        "\n",
        "def my_or(left, right):\n",
        "    \"\"\"TODO: A workalike of the `or` operator.\"\"\"\n",
        "    pass"
      ]
    },
    {
      "cell_type": "markdown",
      "metadata": {
        "id": "VwQPNN6e6QI_"
      },
      "source": [
        "### Check your work\n",
        "\n",
        "**Check your functions!** When you run the code below, you should get exactly the same results as the earlier loops:"
      ]
    },
    {
      "cell_type": "code",
      "execution_count": null,
      "metadata": {
        "id": "rz-jwUKp6cUJ"
      },
      "outputs": [],
      "source": [
        "# How do `my_and` and `my_or` fare?\n",
        "for left_boolean in (True, False):\n",
        "    for right_boolean in (True, False):\n",
        "        print(left_boolean, 'and', right_boolean, '==',\n",
        "              my_and(left_boolean, right_boolean))\n",
        "\n",
        "print() # Blank line for spacing.\n",
        "\n",
        "for left_boolean in (True, False):\n",
        "    for right_boolean in (True, False):\n",
        "        print(left_boolean, 'or', right_boolean, '==',\n",
        "              my_or(left_boolean, right_boolean))\n",
        "        \n",
        "assert(my_and(True, True) == True)\n",
        "assert(my_and(True, False) == False)\n",
        "assert(my_and(False, True) == False)\n",
        "assert(my_and(False, False) == False)\n",
        "\n",
        "assert(my_or(True, True) == True)\n",
        "assert(my_or(True, False) == True)\n",
        "assert(my_or(False, True) == True)\n",
        "assert(my_or(False, False) == False)"
      ]
    },
    {
      "cell_type": "markdown",
      "metadata": {
        "id": "cTCv-zfc6wmp"
      },
      "source": [
        "### Use your work, save the world!\n",
        "\n",
        "Finally, something open-ended: **write a function that returns a boolean given a string.** You may reuse a function from before or write a brand new one.\n",
        "\n",
        "**Test your function by asking the user for two strings. Then, print out the `my_and` and `my_or` results for your boolean function’s results on those two strings.**\n",
        "\n",
        "**Challenge:** Can you refactor this code so that it keeps asking for strings until the user types `'stop'` for either input?"
      ]
    },
    {
      "cell_type": "code",
      "execution_count": null,
      "metadata": {
        "id": "6m_AD7AY7iXh"
      },
      "outputs": [],
      "source": [
        "# Choose one: whether a string has an even or odd number of characters;\n",
        "# whether it starts with a capital letter; whether it has a space; etc.\n",
        "def boolean_about_a_string(string):\n",
        "    pass\n",
        "\n",
        "left_str = input('Please enter a string: ')\n",
        "right_str = input('Please enter another one: ')\n",
        "\n",
        "left_boolean = boolean_about_a_string(left_str)\n",
        "right_boolean = boolean_about_a_string(right_str)\n",
        "\n",
        "print()\n",
        "print('My function is', left_boolean, 'for', \"'\" + left_str + \"'\")\n",
        "print('and it is', right_boolean, 'for', \"'\" + right_str + \"'\")\n",
        "print()\n",
        "\n",
        "print(left_boolean, 'and', right_boolean, '==',\n",
        "      my_and(left_boolean, right_boolean))\n",
        "\n",
        "print(left_boolean, 'or', right_boolean, '==',\n",
        "      my_or(left_boolean, right_boolean))"
      ]
    },
    {
      "cell_type": "markdown",
      "metadata": {
        "id": "Y_Vveysh0SJW"
      },
      "source": [
        "## Collecting Coupons!\n",
        "\n",
        "### Getting a random coupon\n",
        "In the following cell, we give you code that returns a random number between 1 and 10. Each number represents a unique coupon that you will try to collect."
      ]
    },
    {
      "cell_type": "code",
      "execution_count": null,
      "metadata": {
        "id": "WNtMcjQJHIqH"
      },
      "outputs": [],
      "source": [
        "import random\n",
        "\n",
        "# This function simulates getting a coupon from a set of 10 coupons. \n",
        "# You need only run this cell to be able to call this function\n",
        "def get_coupon():\n",
        "    coupon = random.randint(1, 10)\n",
        "    return coupon"
      ]
    },
    {
      "cell_type": "markdown",
      "metadata": {
        "id": "y2c-tRWA91fr"
      },
      "source": [
        "### Collect all the coupons\n",
        "In the following cell **write code to continue getting coupons until you collect all 10 coupons.** Use the `get_coupon` function to get coupons. Keep track of the total number of coupons you collect before you collect each distinct coupon in the set of 10. Remember you can get any of the 10 coupons at any time so you may get many coupons several times before you get all 10. "
      ]
    },
    {
      "cell_type": "code",
      "execution_count": null,
      "metadata": {
        "id": "NMcvm3E4-sl_"
      },
      "outputs": [],
      "source": [
        "# In this cell, keep on collecting coupons until you get all 10 coupons.\n",
        "\n",
        "# Questions to consider:\n",
        "# (1) How will you store your coupons?\n",
        "# (2) How will you keep track of the number of unique coupons collected so far?\n",
        "# (3) How will you keep track of total coupons collected?\n",
        "\n",
        "coupon_collection = [] # (1) The best match is a list.\n",
        "\n",
        "# (2) How will you keep getting coupons until you collect the whole set of 10?\n",
        "coupons_received = 0\n",
        "\n",
        "# TODO: Keep on receiving coupons until you have collected the whole set.\n",
        "# This is what you would do for a single coupon:\n",
        "coupon = get_coupon()\n",
        "coupons_received = coupons_received + 1\n",
        "if coupon not in coupon_collection:\n",
        "    coupon_collection.append(coupon)\n",
        "\n",
        "# Print out your coupon collection.\n",
        "print(coupon_collection)\n",
        "\n",
        "# Print out the total number of coupons received.\n",
        "print('Number of coupons received:', coupons_received)\n",
        "\n",
        "assert(sorted(coupon_collection) == list(range(1, 11)))"
      ]
    },
    {
      "cell_type": "markdown",
      "metadata": {
        "id": "zXC7orYI_T3E"
      },
      "source": [
        "## Fun with Flowers!\n",
        "\n",
        "### Keeping stock at the flower shop\n",
        "A flower shop specializes in a small set of flowers. The shop only sells roses, lavender, sunflowers, gardenias, and orchids. How can you keep track of the flowers that the shop sells?"
      ]
    },
    {
      "cell_type": "code",
      "execution_count": null,
      "metadata": {
        "id": "fpq9XjRC_TJG"
      },
      "outputs": [],
      "source": [
        "# (Q) What is the best data structure to store the set of flowers that the\n",
        "# flower shop sells? Use that data structure now to declare a variable, \n",
        "# flower_stock, with the given flower names. You will use this throughout\n",
        "# the following exercises.\n",
        "\n",
        "# (A) The flower stock never changes so we can use a tuple.\n",
        "flower_stock = ('roses', 'lavender', 'sunflowers', 'gardenias', 'orchids')\n"
      ]
    },
    {
      "cell_type": "markdown",
      "metadata": {
        "id": "4XBErJ9C6snr"
      },
      "source": [
        "### Processing Wednesday shipments\n",
        "Every Wednesday morning, the flower shop receives shipments of flowers. For example, on the most recent Wednesday, the shop received 50 bunches of roses that will sell for \\$20.00 each, 30 bunches of lavender that will sell for \\$15.00, 40 bunches of sunflowers that will sell for \\$10.00 each, 20 bunches of gardenias that will sell for \\$25.00 each, and 15 orchids that will sell for \\$40 each.\n",
        "\n",
        "In the following cell, **decide what data structure should be used to store the current inventory.** You want to be able to get the number of flowers available and current price. Every week, the shop can get a different set of stock flowers including none of certain types. **Complete the function to `process_shipment` and use the given shipment to test it.**\n"
      ]
    },
    {
      "cell_type": "code",
      "execution_count": null,
      "metadata": {
        "id": "IgEua-9m6sR_"
      },
      "outputs": [],
      "source": [
        "# Complete the function that, given the current shipment, returns the inventory. \n",
        "# (Q) How will you use the possible flower_stock variable from above?\n",
        "def process_shipment(shipment): # See below for what shipment is.\n",
        "\n",
        "    # Your inventory should be structured such that you can look up a flower,\n",
        "    # and what you get back is something that includes both the quantity of\n",
        "    # that flower and its current unit price.\n",
        "    inventory = {} # (A) A dictionary works best here.\n",
        "\n",
        "    # For each flower_item in the shipment:\n",
        "    for flower, quantity, price in shipment:\n",
        "        # Check that valid flowers were received.\n",
        "        # (i.e., make sure it is a type of flower that the shop sells)\n",
        "        #\n",
        "        # If the flower is part of your flower_stock:\n",
        "            # Add the flower as a key to the inventory dictionary.\n",
        "            inventory[flower] = [quantity, price]\n",
        "\n",
        "        # Otherwise, do not add flower to inventory (i.e., do nothing).\n",
        "    \n",
        "    return inventory \n",
        "\n",
        "# How would you store the information about the shipment received on Wednesday?\n",
        "# (observation: the shipment is fixed and will not have to change)\n",
        "\n",
        "# Each item in the shipment will include the flower, quantity, and price\n",
        "# in that order.\n",
        "\n",
        "# The example given above would have this information:\n",
        "#\n",
        "#     flower     quantity     unit price\n",
        "#     roses            50          20.00\n",
        "#     lavender         30          15.00\n",
        "#     sunflowers       40          10.00\n",
        "#     gardenias        20          25.00\n",
        "#     orchids          15          40.00\n",
        "#\n",
        "# We choose a tuple of tuples because a shipment is an immutable collection of\n",
        "# flower items and each flower item is also immutable, with three values.\n",
        "#\n",
        "# For instance our sample shipment would look like this: (feel free to test\n",
        "# other shipment values)\n",
        "current_shipment = (\n",
        "    ('roses', 50, 20),\n",
        "    ('lavender', 30, 15),\n",
        "    ('sunflowers', 40, 10),\n",
        "    ('gradenias', 20, 25),\n",
        "    ('orchids', 15, 40))\n",
        "\n",
        "# Assume that before you process a shipment, the inventory is empty\n",
        "flower_inventory = process_shipment(current_shipment)\n",
        "print(flower_inventory)\n",
        "\n",
        "assert(flower_inventory['roses'] == [50, 20])\n",
        "assert(flower_inventory['lavender'] == [30, 15])\n",
        "assert(flower_inventory['sunflowers'] == [40, 10])\n",
        "assert(flower_inventory['orchids'] == [15, 40])\n",
        "assert('gradenias' not in flower_inventory)"
      ]
    },
    {
      "cell_type": "markdown",
      "metadata": {
        "id": "hUCwqyB2Ar1i"
      },
      "source": [
        "### Retail value and fulfilling an order\n",
        "In the following cell, **complete the function `retail_value` to calculate the total retail value of all of the flowers in the shop.** As a challenge (optional) exercise, complete the function `fulfill_order` to update the inventory based on a customer buying some flowers. "
      ]
    },
    {
      "cell_type": "code",
      "execution_count": null,
      "metadata": {
        "id": "siMb106-ApxT"
      },
      "outputs": [],
      "source": [
        "# TODO: Complete this function to return the total retail value of the inventory.\n",
        "# This function will need go through the entire inventory to find the quantity\n",
        "# and price of each flower in stock.\n",
        "def retail_value(inventory):\n",
        "    total_retail_value = 0\n",
        "\n",
        "    # For each flower in the inventory:\n",
        "    for flower in inventory:\n",
        "        # TODO: Look up the flower's information.\n",
        "\n",
        "        # TODO: Determine the subtotal value of that flower (quantity * unit price).\n",
        "        # Add that subtotal to your total so far.\n",
        "\n",
        "    return total_retail_value\n",
        "\n",
        "print('Retail value of flowers at shop:', retail_value(flower_inventory))\n",
        "assert(retail_value(flower_inventory) == 2450)"
      ]
    },
    {
      "cell_type": "markdown",
      "metadata": {},
      "source": [
        "### Retail value (optional)\n",
        "\n",
        "Optional challenge exercise: **Complete the function fulfill_order to update the current inventory based on the quantity of a single type of flowers a customer buys.**"
      ]
    },
    {
      "cell_type": "code",
      "execution_count": null,
      "metadata": {
        "id": "qeHkcR0YsxBf"
      },
      "outputs": [],
      "source": [
        "# TODO: Optional challenge exercise: Complete the function fulfill_order to update the current \n",
        "# inventory based on the quantity of a single type of flowers a customer buys\n",
        "def fulfill_order(inventory, flower_name, quantity):\n",
        "    # If the requested flower is in your inventory:\n",
        "        # If there are enough flowers available, remove the stock\n",
        "\n",
        "    # Otherwise, do nothing.\n",
        "\n",
        "    # Return the updated inventory.\n",
        "    return inventory\n",
        "\n",
        "\n",
        "flower_inventory = fulfill_order(flower_inventory, 'orchids', 1)\n",
        "print('Retail value of flowers after purchase:', retail_value(flower_inventory))\n",
        "assert(retail_value(flower_inventory) == 2410)"
      ]
    },
    {
      "cell_type": "code",
      "execution_count": null,
      "metadata": {
        "id": "CDiQQuY3s0Ng"
      },
      "outputs": [],
      "source": [
        "# Optional challenge: How could you change this to handle a customer's entire\n",
        "# order of a number of different flowers each of possibly different quantities?"
      ]
    },
    {
      "cell_type": "markdown",
      "metadata": {
        "id": "dKL0LYd-E4JB"
      },
      "source": [
        "### (Optional) Reflections\n",
        "Add a text cell below to answer the following questions:\n",
        "1. What do you feel more confident about after completing this lab?\n",
        "2. What do you feel you can use more help with after completing this lab?\n",
        "3. Do you have any constructive suggestions on how we can help you or improve this lab?"
      ]
    },
    {
      "cell_type": "markdown",
      "metadata": {
        "id": "gB1aHDpyFYey"
      },
      "source": [
        "### Save your work to GitHub\n",
        "Please save this notebook to your lab repository."
      ]
    }
  ],
  "metadata": {
    "colab": {
      "provenance": []
    },
    "kernelspec": {
      "display_name": "Python 3",
      "language": "python",
      "name": "python3"
    },
    "language_info": {
      "codemirror_mode": {
        "name": "ipython",
        "version": 3
      },
      "file_extension": ".py",
      "mimetype": "text/x-python",
      "name": "python",
      "nbconvert_exporter": "python",
      "pygments_lexer": "ipython3",
      "version": "3.8.5"
    }
  },
  "nbformat": 4,
  "nbformat_minor": 0
}
