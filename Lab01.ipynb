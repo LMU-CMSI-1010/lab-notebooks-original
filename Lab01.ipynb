{
 "cells": [
  {
   "cell_type": "markdown",
   "metadata": {},
   "source": [
    "<a href=\"https://colab.research.google.com/github/LMU-CMSI-1010/lab-notebooks-original/blob/main/Lab01.ipynb\" target=\"_parent\"><img src=\"https://colab.research.google.com/assets/colab-badge.svg\" alt=\"Open In Colab\"/></a>"
   ]
  },
  {
   "cell_type": "markdown",
   "metadata": {
    "id": "9aXfrLXg9seM"
   },
   "source": [
    "# Lab 01 Taking Orders\n",
    "***\n",
    "In this lab you will practice using strings, variables, printing, and getting input from a user.\n",
    "\n",
    "## Greeting your customer\n",
    "**In the following cell, print a statement to greet your customers and ask their names. Save their names in a variable, so you can use it later.**\n",
    "\n"
   ]
  },
  {
   "cell_type": "code",
   "execution_count": null,
   "metadata": {
    "id": "BvyaiHRdlsXj"
   },
   "outputs": [],
   "source": [
    "# TODO: Greet your customer and ask for their name\n",
    "\n",
    "# TODO: Save their name in a variable\n"
   ]
  },
  {
   "cell_type": "markdown",
   "metadata": {
    "id": "LCUmYgcomFGg"
   },
   "source": [
    "## Ask for their order by name\n",
    "**In the following cell repeat the customer’s name and ask for their drink and meal order. Remember to save the drink as a variable and also save the meal as another variable.**\n"
   ]
  },
  {
   "cell_type": "code",
   "execution_count": null,
   "metadata": {
    "id": "5DUZ_9hPmxCi"
   },
   "outputs": [],
   "source": [
    "# TODO: Use the customer's name to ask for drink order\n",
    "\n",
    "\n",
    "# TODO: Use the customer's name to ask for meal order\n",
    "\n",
    "\n"
   ]
  },
  {
   "cell_type": "markdown",
   "metadata": {
    "id": "4dODrt9WnO-v"
   },
   "source": [
    "## Repeat their order \n",
    "In the following cell, **thank your customer by name and repeat their order to them. Make sure you use the correct variables when you repeat it.**"
   ]
  },
  {
   "cell_type": "code",
   "execution_count": null,
   "metadata": {
    "id": "ncutxJBKniMh"
   },
   "outputs": [],
   "source": [
    "# Change this code to make sure that you are using the correct customer name, drink, and meal.\n",
    "# TODO: Replace this comment with code to thank customer by name for their order\n",
    "# e.g. Thank you, Lion.\n",
    "print('Please let me repeat your order for you.')\n",
    "# TODO: Replace this comment with code to repeat the drink and the meal\n",
    "# e.g. I see that you have ordered a soda and pizza."
   ]
  },
  {
   "cell_type": "markdown",
   "metadata": {
    "id": "O8oF7J1OmCnQ"
   },
   "source": [
    "## Challenge—figuring out your bill!\n",
    "Since we don’t have a menu in this lab notebook, we don’t know what our meals should cost. We’ll trust the restaurant to tell you how much your total bill is and the percentage of your original bill that will comprise the tip. Tax is always 10% of the original bill. It randomly chooses your total bill and tip percentage for you. Can you use this information to find out what your original bill costs before the tip?"
   ]
  },
  {
   "cell_type": "code",
   "execution_count": null,
   "metadata": {
    "id": "mCuyN8JZqPhI"
   },
   "outputs": [],
   "source": [
    "# The following code is given to you and does not need to be modified\n",
    "import random\n",
    "\n",
    "# We select a random float between 10 and 30 for the total bill\n",
    "total_bill = round(random.uniform(10, 30), 2)\n",
    "\n",
    "# We select a random integer tip percentage amount between 10 and 25 \n",
    "tip = random.randint(10, 25)\n",
    "print('Thank you. Your total bill is $' + str(total_bill) + '. Your tip percentage is ' + str(tip) +'%. Tax is 10%.')"
   ]
  },
  {
   "cell_type": "markdown",
   "metadata": {
    "id": "OIWaikgzrzdR"
   },
   "source": [
    "**Edit the following cell to figure out what your original bill was.** We print it, but right now we always print the same value for the original bill"
   ]
  },
  {
   "cell_type": "code",
   "execution_count": null,
   "metadata": {
    "id": "TM3VQOMVtiU4"
   },
   "outputs": [],
   "source": [
    "# TODO: Change this code below to figure out your original bill. Right now, it is always 10.\n",
    "original_bill = 10\n",
    "\n",
    "# No need to change below\n",
    "print('Your original bill is $' + str(original_bill) + '.')"
   ]
  },
  {
   "cell_type": "markdown",
   "metadata": {
    "id": "dKL0LYd-E4JB"
   },
   "source": [
    "### (optional) Reflections\n",
    "Add a text cell below to answer the following questions:\n",
    "1. What do you feel more confident about after completing this lab?\n",
    "2. What do you feel you can use more help with after completing this lab?\n",
    "3. Do you have any constructive suggestions on how we can help you or improve this lab?"
   ]
  },
  {
   "cell_type": "markdown",
   "metadata": {
    "id": "gB1aHDpyFYey"
   },
   "source": [
    "### Save your work to GitHub\n",
    "Please save this notebook to your lab repository."
   ]
  },
  {
   "cell_type": "code",
   "execution_count": null,
   "metadata": {},
   "outputs": [],
   "source": []
  }
 ],
 "metadata": {
  "kernelspec": {
   "display_name": "Python 3.10.0 64-bit",
   "language": "python",
   "name": "python3"
  },
  "language_info": {
   "codemirror_mode": {
    "name": "ipython",
    "version": 3
   },
   "file_extension": ".py",
   "mimetype": "text/x-python",
   "name": "python",
   "nbconvert_exporter": "python",
   "pygments_lexer": "ipython3",
   "version": "3.10.0"
  },
  "vscode": {
   "interpreter": {
    "hash": "aee8b7b246df8f9039afb4144a1f6fd8d2ca17a180786b69acc140d282b71a49"
   }
  }
 },
 "nbformat": 4,
 "nbformat_minor": 4
}
