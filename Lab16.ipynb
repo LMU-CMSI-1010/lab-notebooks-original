{
  "cells": [
    {
      "cell_type": "markdown",
      "metadata": {
        "id": "bXjwE7TGJJF5"
      },
      "source": [
        "## <a href=\"https://colab.research.google.com/github/LMU-CMSI-1010/lab-notebooks-original/blob/main/Lab16.ipynb\" target=\"_parent\"><img src=\"https://colab.research.google.com/assets/colab-badge.svg\" alt=\"Open In Colab\"/></a>"
      ]
    },
    {
      "cell_type": "markdown",
      "metadata": {
        "id": "9aXfrLXg9seM"
      },
      "source": [
        "# Lab 16 Making your own histogram class\n",
        "While `numpy` and `pandas` will certainly make histograms for you, let's try to make our own from real data to help review classes and dictionaries. We'll use `numpy` to help us plot them. We'll also gain a much greater appreciation for what these data science modules do for us. First, let's import the `datascience`, `numpy`, and `matplotlib` modules to use."
      ]
    },
    {
      "cell_type": "code",
      "execution_count": null,
      "metadata": {
        "id": "ZzKTbg9yFE7M"
      },
      "outputs": [],
      "source": [
        "from datascience import *\n",
        "import numpy as np\n",
        "\n",
        "%matplotlib inline\n",
        "import matplotlib.pyplot as plt\n",
        "plt.style.use('seaborn-whitegrid')"
      ]
    },
    {
      "cell_type": "markdown",
      "metadata": {
        "id": "DZuccFyQOyd1"
      },
      "source": [
        "## Reading in Farmers Markets Table\n",
        "\n",
        "The table `farmers_markets.csv` contains data on farmers' markets in the United States  (data collected [by the USDA](https://apps.ams.usda.gov/FarmersMarketsExport/ExcelExport.aspx)).  Each row represents one such market.\n",
        "\n",
        "**Run the next cell to load the `farmers_markets` table.**"
      ]
    },
    {
      "cell_type": "code",
      "execution_count": null,
      "metadata": {
        "id": "gBjBA8gEO1F3"
      },
      "outputs": [],
      "source": [
        "source = 'https://raw.githubusercontent.com/data-8/materials-fa19/master/materials/fa19/lab/lab02/farmers_markets.csv'\n",
        "farmers_markets = Table.read_table(source)\n",
        "\n",
        "# Let's show some information about the data we just loaded.\n",
        "print(\"This table has \", farmers_markets.num_rows, \"rows. One for each farmer's market\")\n",
        "print(\"This table has \", farmers_markets.num_columns, \"columns\")\n",
        "\n",
        "# We'll only use the first 9, so we'll select them\n",
        "farmers_markets = farmers_markets.select(range(9))\n",
        "print(\"Here are the column labels: \\n \", farmers_markets.labels)\n",
        "\n",
        "# The column label FMID stands for Farmer's Market ID\n",
        "# The column x stands for longitude\n",
        "# The column y stands for latitude\n",
        "# Remember you can view part of the table by using show(number of rows)\n",
        "farmers_markets.show(5)"
      ]
    },
    {
      "cell_type": "markdown",
      "metadata": {
        "id": "VHabjGhLQvam"
      },
      "source": [
        "To get all the farmer's markets in Los Angeles we can use `where`. First we will get the markets in California and then those in Los Angeles."
      ]
    },
    {
      "cell_type": "code",
      "execution_count": null,
      "metadata": {
        "id": "-PrvOEaKQv27"
      },
      "outputs": [],
      "source": [
        "california_farmers_markets = farmers_markets.where('State', are.equal_to('California'))\n",
        "la_markets = california_farmers_markets.where('city', are.equal_to('Los Angeles'))\n",
        "la_markets"
      ]
    },
    {
      "cell_type": "markdown",
      "metadata": {
        "id": "Lu_o0_cQYlJd"
      },
      "source": [
        "## Where are all the Markets?\n",
        "So far, so good, we know where markets are in Los Angeles, but how can we figure out where the most farmers' markets are in the US. It's probably California and possibly even Los Angeles, but how can we use this data to show this?\n",
        "\n",
        "Let's draw a histogram of all the longitudes (x column) followed by a histogram for the latitudes (y column)."
      ]
    },
    {
      "cell_type": "code",
      "execution_count": null,
      "metadata": {
        "id": "ESWdt4PyKOFw"
      },
      "outputs": [],
      "source": [
        "farmers_markets.select('x').hist()\n",
        "farmers_markets.select('y').hist()"
      ]
    },
    {
      "cell_type": "markdown",
      "metadata": {
        "id": "IvR17k9AbCr7"
      },
      "source": [
        "This gives us some indication of the physical locations of the markets, but what if we want to know about states? That is not a numeric value in that column, so we get an error in the following cell."
      ]
    },
    {
      "cell_type": "code",
      "execution_count": null,
      "metadata": {
        "id": "ZLJcIK-Pprbd"
      },
      "outputs": [],
      "source": [
        "# THIS CELL WILL GIVE AN ERROR WHEN YOU RUN IT\n",
        "farmers_markets.select('State').hist()"
      ]
    },
    {
      "cell_type": "markdown",
      "metadata": {
        "id": "AmfbeX6Tb95T"
      },
      "source": [
        "# Creating Your Histogram Class\n",
        "At the end of this lab, we'll show you how to do this very quickly using aggregates in the datascience module, but we want to **give you practice writing your own histogram class.**"
      ]
    },
    {
      "cell_type": "code",
      "execution_count": null,
      "metadata": {
        "id": "GHMNEKSWctdu"
      },
      "outputs": [],
      "source": [
        "class Histogram():\n",
        "    def __init__(self):\n",
        "        self.dictionary = {}\n",
        "        self.labels = []\n",
        "        self.frequency = []\n",
        "\n",
        "    # TODO: Given a list of non_numeric values\n",
        "    # update the histogram's dictionary where the keys are all the unique values\n",
        "    # in the non_numeric values and the corresponding values is\n",
        "    # the number of times it appears\n",
        "    #\n",
        "    # Remember that, whenever you see a new key (i.e., one that isn't in the\n",
        "    # dictionary yet), its initial value is 1 because seeing it for the first\n",
        "    # time means it appears at least once in the list\n",
        "    #\n",
        "    # For example, given the list [\"California\", \"Michigan\", \"Maine\", \"California\"]\n",
        "    # The dictionary will have a key for each state. Michigan and Maine would\n",
        "    # have value 1 and California would have value 2.\n",
        "    def update_dictionary(self, non_numeric):\n",
        "        pass\n",
        "    \n",
        "    # TODO: Set the histogram's self.labels to its dictionary's keys\n",
        "    def update_labels(self):\n",
        "        pass\n",
        "\n",
        "    # TODO: Set the histogram's self.frequency to its dictionary's values\n",
        "    def update_frequency(self):\n",
        "        pass\n",
        "\n",
        "    # This method can be used to plot the histogram\n",
        "    # You do not need to change it\n",
        "    def draw(self):\n",
        "        _ = plt.hist(self.frequency, bins='auto')\n",
        "        plt.xlabel('count (i.e., number of farmers markets in the state)')\n",
        "        plt.ylabel('Number of states with this many markets')\n",
        "        plt.show()\n",
        "\n",
        "    # TODO: Return the key from the dictionary that has the greatest value\n",
        "    def get_mostfrequent(self):\n",
        "        pass"
      ]
    },
    {
      "cell_type": "markdown",
      "metadata": {
        "id": "lYLWBSSLgG5B"
      },
      "source": [
        "# Creating Histogram of Market States\n",
        "Now you will **create your own histogram of farmers markets in each state.** First instantiate a histogram object. Then consider what data you need to pass from the farmers' markets table to update the dictionary."
      ]
    },
    {
      "cell_type": "code",
      "execution_count": null,
      "metadata": {
        "id": "C4UUopzjgjpZ"
      },
      "outputs": [],
      "source": [
        "# Test your code!\n",
        "# 1. TODO: Instantiate a Histogram object\n",
        "hist = None\n",
        "\n",
        "# 2. Update its dictionary by passing the State column from the \n",
        "#    farmer's market table i.e. farmers_markets.column('State')\n",
        "hist.update_dictionary(farmers_markets.column('State'))\n",
        "\n",
        "# 3. TODO: Update the frequency of your Histogram object\n",
        "\n",
        "\n",
        "# 4. TODO: Update the labels of your Histogram object\n",
        "\n",
        "\n",
        "# 5. TODO: Draw your Histogram object\n",
        "\n",
        "\n",
        "# 6. TODO: Print out the state with the most farmers' markets using\n",
        "#    the get_mostfrequent method of your Histogram object\n",
        "\n",
        "\n",
        "assert(hist.get_mostfrequent() == 'California')\n",
        "assert(len(hist.dictionary) == len(hist.labels) == len(hist.frequency) == 53)"
      ]
    },
    {
      "cell_type": "markdown",
      "metadata": {
        "id": "2NrrZKPGoWT7"
      },
      "source": [
        "## The Beauty of the Data Science Modules\n",
        "Everything we just did is just a line or two of Python using aggregation using `group`. Please run this cell to see the exact same result."
      ]
    },
    {
      "cell_type": "code",
      "execution_count": null,
      "metadata": {
        "id": "rzWE8e-Am4A1"
      },
      "outputs": [],
      "source": [
        "# Group the farmers market table by state and create a histogram of the counts\n",
        "# per state\n",
        "farmers_markets.group('State').select('count').hist()\n",
        "\n",
        "# Show the farmers market table by state with counts in descending order\n",
        "# of counts\n",
        "farmers_markets.group('State').sort('count', descending=True)"
      ]
    },
    {
      "cell_type": "markdown",
      "metadata": {
        "id": "mhwSWiKYpXsC"
      },
      "source": [
        "### (Optional) Reflections\n",
        "Add a text cell below to answer the following questions:\n",
        "1. What do you feel more confident about after completing this lab?\n",
        "2. What do you feel you can use more help with after completing this lab?\n",
        "3. Do you have any constructive suggestions on how we can help you or improve this lab?"
      ]
    },
    {
      "cell_type": "markdown",
      "metadata": {
        "id": "1WwZLZdvpZB8"
      },
      "source": [
        "### Save your work to GitHub\n",
        "Please save this notebook to your lab repository."
      ]
    }
  ],
  "metadata": {
    "kernelspec": {
      "display_name": "Python 3",
      "language": "python",
      "name": "python3"
    },
    "language_info": {
      "codemirror_mode": {
        "name": "ipython",
        "version": 3
      },
      "file_extension": ".py",
      "mimetype": "text/x-python",
      "name": "python",
      "nbconvert_exporter": "python",
      "pygments_lexer": "ipython3",
      "version": "3.8.5"
    },
    "colab": {
      "provenance": []
    }
  },
  "nbformat": 4,
  "nbformat_minor": 0
}
