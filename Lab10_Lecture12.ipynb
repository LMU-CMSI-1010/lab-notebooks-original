{
  "cells": [
    {
      "cell_type": "markdown",
      "metadata": {
        "id": "WIFu_BIiWkKj"
      },
      "source": [
        "<a href=\"https://colab.research.google.com/github/LMU-CMSI-1010/lab-notebooks-original/blob/main/Lab10_Lecture12.ipynb\" target=\"_parent\"><img src=\"https://colab.research.google.com/assets/colab-badge.svg\" alt=\"Open In Colab\"/></a>"
      ]
    },
    {
      "cell_type": "markdown",
      "source": [
        "# Lecture 12 and Lab 10: Introduction to Recursion"
      ],
      "metadata": {
        "id": "0cS4609qUjy1"
      }
    },
    {
      "cell_type": "markdown",
      "source": [
        "In this interactive session, we'll delve into the world of recursive functions in Python. Through guided exercises in this lab, you'll explore the principles and applications of recursion. **Recursion**  means “defining something in terms of itself” usually at some smaller scale, perhaps multiple times, to achieve your objective. For example, we might say “A human being is someone whose parent is a human being”, or “a directory is a structure that holds files and (smaller) directories”, or “a family tree starts with a couple who have children, each with their own family sub-trees”.\n",
        "Programming languages generally support recursion, which means that, in order to solve a problem, *functions can call themselves to solve smaller subproblems*."
      ],
      "metadata": {
        "id": "RI0Ay15Bmlth"
      }
    },
    {
      "cell_type": "markdown",
      "source": [
        "Recursion is when a function calls itself, until it doesn’t."
      ],
      "metadata": {
        "id": "ZvY7lZn2qF65"
      }
    },
    {
      "cell_type": "code",
      "source": [
        "def i_am_recursive(x) :\n",
        " maybe do some work\n",
        " if there is more work to do :\n",
        "     i_am_recursive(next(x))\n",
        " return the desired result"
      ],
      "metadata": {
        "id": "EbBbL_RFrPeS"
      },
      "execution_count": null,
      "outputs": []
    },
    {
      "cell_type": "markdown",
      "source": [
        "If the function calls another copy of itself, the other copy may call yet another copy, and so on. This leads to repetition, very similar to a loop. In fact, designed correctly, a recursive function can simply replace a for loop. So all of the functions we have written so far (sum a list, find the max of a list, etc) can be written using recursion (and not using a for loop or a while loop)."
      ],
      "metadata": {
        "id": "6nv_ZpPKrZP3"
      }
    },
    {
      "cell_type": "markdown",
      "source": [
        "Do you remember the countdown problem from the Loop lecture?"
      ],
      "metadata": {
        "id": "nI4wWmLEsGzq"
      }
    },
    {
      "cell_type": "code",
      "source": [
        "def countdown(n):\n",
        "    for i in range(n, 0, -1): # Iterate in reverse order from n to 0 (exclusive).\n",
        "       print(i)\n",
        "    print('Blast off!')\n",
        "\n",
        "countdown(3)"
      ],
      "metadata": {
        "colab": {
          "base_uri": "https://localhost:8080/"
        },
        "id": "v6SRB7J6rfjg",
        "outputId": "fa57b33e-10c9-434d-df5e-d019823bc44a"
      },
      "execution_count": null,
      "outputs": [
        {
          "output_type": "stream",
          "name": "stdout",
          "text": [
            "3\n",
            "2\n",
            "1\n",
            "Blast off!\n"
          ]
        }
      ]
    },
    {
      "cell_type": "markdown",
      "source": [
        "Now let's transform the iterative countdown function into a **recursive** one."
      ],
      "metadata": {
        "id": "LSZeTLsZsnoF"
      }
    },
    {
      "cell_type": "markdown",
      "source": [
        "Thinking recursively, you may notice that blastoff(10) is really just this:"
      ],
      "metadata": {
        "id": "T8ZB55Lzt9td"
      }
    },
    {
      "cell_type": "code",
      "source": [
        "print(10)\n",
        "countdown(9)"
      ],
      "metadata": {
        "id": "ep26pgvZtkP-"
      },
      "execution_count": null,
      "outputs": []
    },
    {
      "cell_type": "markdown",
      "source": [
        "And blastoff(9) is this:"
      ],
      "metadata": {
        "id": "DmhHe5GJuEzl"
      }
    },
    {
      "cell_type": "code",
      "source": [
        "print(9)\n",
        "countdown(8)"
      ],
      "metadata": {
        "id": "ivFvAceauFax"
      },
      "execution_count": null,
      "outputs": []
    },
    {
      "cell_type": "markdown",
      "source": [
        "And so on. The key to writing an algorithm recursively: handle the first item or case, then let recursion handle the rest. For the above, given an integer n, we would:"
      ],
      "metadata": {
        "id": "sqgFVLBjuNnf"
      }
    },
    {
      "cell_type": "code",
      "source": [
        "print(n)           # take care of n\n",
        "countdown(n-1)      # let recursion handle the rest"
      ],
      "metadata": {
        "id": "39a8l4i6uSqO"
      },
      "execution_count": null,
      "outputs": []
    },
    {
      "cell_type": "markdown",
      "source": [
        "Also note, each subsequent call to `blastoff()` has a smaller value of n. Eventually we will call `blastoff(2)`, then `blastoff(1)`, and then, finally, `blastoff(0)`. At that point, we want to just print \"blastoff\" and stop the recursion. This is formally called the base case, and is usually written with an if/else clause.\n",
        "\n",
        "\n",
        "\n"
      ],
      "metadata": {
        "id": "rCECxNUOuTSE"
      }
    },
    {
      "cell_type": "markdown",
      "source": [
        "**Step 1:** Understand the Pattern\n",
        "\n",
        "In the iterative version, we're counting down from a given number $n$ to 1 and then printing \"Blast off!\". To do this recursively, we need a way to handle each number and eventually print \"Blast off!\".\n",
        "\n",
        "**Step 2:** Identify the Recursive Idea\n",
        "\n",
        "To achieve the countdown effect recursively, we can think of the problem this way: to countdown from $n$, we first print $n$, and then we perform the countdown from $n - 1$.\n",
        "\n",
        "**Step 3:** Implement the Recursive Function\n",
        "\n",
        "Now, implement the recursive function based on your understanding of the pattern"
      ],
      "metadata": {
        "id": "MSoi21CFt47A"
      }
    },
    {
      "cell_type": "code",
      "source": [
        "def countdown(n):\n",
        "    if n == 0:\n",
        "        # TODO: Print 'Blast off!' when n is 0.\n",
        "        pass\n",
        "    else:\n",
        "        # TODO: Print the current value of n.\n",
        "        # TODO: Call countdown function recursively with n - 1.\n"
      ],
      "metadata": {
        "id": "xYnbp_ENuztu"
      },
      "execution_count": null,
      "outputs": []
    },
    {
      "cell_type": "markdown",
      "source": [
        "### General Recursive Form\n",
        "\n",
        "In recursion, we divide a function into two possible cases: a base case, which returns the result for a known small value, and a recursive case, which computes a result by calling the same function on a smaller value. In other words: we solve the problem by assuming it's already solved!"
      ],
      "metadata": {
        "id": "3CLR3CqCvfk7"
      }
    },
    {
      "cell_type": "markdown",
      "source": [
        "Every recursive function definition includes two parts:\n",
        "\n",
        "\n",
        "- **Base case(s)** (non-recursive) One or more simple cases that can be done right away\n",
        "\n",
        "- **Recursive case(s)** One or more cases that require solving “simpler” version(s) of the original problem. By “simpler”, we mean “smaller” or “shorter” or “closer to the base case”\n"
      ],
      "metadata": {
        "id": "dyxtGU3lvxjY"
      }
    },
    {
      "cell_type": "markdown",
      "source": [
        "Now to better understand what's going on in a recursive function, try to draw the stack diagram of the function below:"
      ],
      "metadata": {
        "id": "q-Dn2mFowQZC"
      }
    },
    {
      "cell_type": "code",
      "source": [
        "def recurse(n, s):\n",
        "    if n == 0:\n",
        "        print(s)\n",
        "    else:\n",
        "        recurse(n – 1, n + s)"
      ],
      "metadata": {
        "id": "gShD5qiG6zD1"
      },
      "execution_count": null,
      "outputs": []
    },
    {
      "cell_type": "markdown",
      "source": [
        "Now answer the following questions in the textbox below:"
      ],
      "metadata": {
        "id": "9ezsRZ-365DB"
      }
    },
    {
      "cell_type": "markdown",
      "source": [
        "- What is the output if you call `recurse(3, 0)`?\n",
        "- What will happen if you call `recurse(-1, 0)`?"
      ],
      "metadata": {
        "id": "8_NtWOQ068G-"
      }
    },
    {
      "cell_type": "markdown",
      "source": [
        "### Example: Iteration vs. Recursive\n",
        "Remember Factorial of a non-negative integer $n$ (denoted as\n",
        "$n!$) is the product of all positive integers from 1 up to\n",
        "$n$. For example, $4! = 4 × 3 × 2 × 1 = 24$"
      ],
      "metadata": {
        "id": "gSPNWn6K7ZXb"
      }
    },
    {
      "cell_type": "markdown",
      "source": [
        "The iterative factorial function can be written as below:"
      ],
      "metadata": {
        "id": "TtuTeagd8KSu"
      }
    },
    {
      "cell_type": "code",
      "source": [
        "def factorial_iterative(n):\n",
        "     res = 1\n",
        "     for i in range(1, n+1):\n",
        "         res *= i\n",
        "     return res\n",
        "\n",
        "factorial_iterative(4)"
      ],
      "metadata": {
        "colab": {
          "base_uri": "https://localhost:8080/"
        },
        "id": "uBnxMxG58JQ5",
        "outputId": "f5887c11-82ac-4704-8b00-850e17efe998"
      },
      "execution_count": null,
      "outputs": [
        {
          "output_type": "execute_result",
          "data": {
            "text/plain": [
              "24"
            ]
          },
          "metadata": {},
          "execution_count": 2
        }
      ]
    },
    {
      "cell_type": "markdown",
      "source": [
        "Now, let's write this function recursively. We first need to identify the Base Case. In recursion, you always need a base case to stop the recursive calls. For factorial, the base case is when $n$ equals $0$ or $1$. In these cases, the factorial is $1$ ($0! = 1$ and  $1! = 1$). In the recursive function, check if  n is 0 or 1. If it is, return 1 since the factorial of $0$ or $1$ is $1$.\n",
        "\n",
        "Next step is to implement the Recursive Call. If\n",
        "$n$ is greater than 1, multiply $n$ with the `factorial` of $n-1$ by calling the factorial function recursively with $n-1$."
      ],
      "metadata": {
        "id": "YADyvpfR8bUK"
      }
    },
    {
      "cell_type": "code",
      "source": [
        "def factorial(n):\n",
        "    # TODO Base case: check if n is 0 or 1. If it is, return 1\n",
        "\n",
        "    # TODO Recursive call: else multiply n with the factorial of n-1 and return"
      ],
      "metadata": {
        "id": "NIl3-heP9Y-s"
      },
      "execution_count": null,
      "outputs": []
    },
    {
      "cell_type": "markdown",
      "metadata": {
        "id": "9aXfrLXg9seM"
      },
      "source": [
        "# Having fun with Palindromes\n",
        "\n",
        "This part of the lab inroduces you to recursion by coding functions to test if a string is a **palindrome** or not and tracing the behavior. but this is a way to motivate what is happening with a concrete example.\n",
        "\n",
        "*Remember:* A **palindrome** is a string that is the same forwards or backwards. For example, *noon, level, the empty string, and any single character* are all palindromes.\n",
        "\n"
      ]
    },
    {
      "cell_type": "markdown",
      "metadata": {
        "id": "NeQK-bkp3AKI"
      },
      "source": [
        "## Quick recap: One-line function\n",
        "\n",
        "Recall that several lectures ago we were able to code a one-line function to check if a string was a palindrome using slicing.\n",
        "\n",
        "This function is in the following cell.\n"
      ]
    },
    {
      "cell_type": "code",
      "execution_count": null,
      "metadata": {
        "id": "9sggpWEB33fV"
      },
      "outputs": [],
      "source": [
        "# quick_palidrome: Given a string, quick_palindrome\n",
        "# returns True if the string is a palindrome and False otherwise\n",
        "def quick_palindrome(test):\n",
        "    # Remember test[::-1] returns a string that is a copy of test reversed\n",
        "    return (test == test[::-1])\n",
        "\n",
        "\n",
        "print(quick_palindrome('')) # Should return True\n",
        "print(quick_palindrome('a')) # Should return True\n",
        "print(quick_palindrome('bubble')) # Should return False\n",
        "print(quick_palindrome('noon')) # Should return True\n",
        "print(quick_palindrome('tenet')) # Should return True\n",
        "print(quick_palindrome('treat')) # Should return False"
      ]
    },
    {
      "cell_type": "markdown",
      "metadata": {
        "id": "3NnTCLBI5nsb"
      },
      "source": [
        "### Your turn with iteration\n",
        "\n",
        "In the following cell, **complete the function `iterative_palindrome`.** You should use a `for` or `while` loop to complete this implementation.\n",
        "**Have your function print out what it is comparing on each iteration**, so that you can check its behavior. **Trace the behavior of your function on the strings, noon, tenet, and treat.** Can you trace with what you are printing and using a stack diagram?"
      ]
    },
    {
      "cell_type": "code",
      "execution_count": null,
      "metadata": {
        "id": "B0q5svPu53OF"
      },
      "outputs": [],
      "source": [
        "# TODO: iterative_palidrome: Given a string, iterative_palindrome\n",
        "# returns True if the string is a palindrome and False otherwise\n",
        "def iterative_palindrome(test):\n",
        "    # If the string is a single character or the empty string,\n",
        "    # remember it is a palindrome\n",
        "    length = len(test)\n",
        "    if length <= 1:\n",
        "        return True\n",
        "\n",
        "    # TODO: Create a loop to complete this function\n",
        "\n",
        "\n",
        "assert(iterative_palindrome('') == True)\n",
        "assert(iterative_palindrome('a') == True)\n",
        "assert(iterative_palindrome('bubble') == False)\n",
        "assert(iterative_palindrome('noon') == True)\n",
        "assert(iterative_palindrome('tenet') == True)\n",
        "assert(iterative_palindrome('treat') == False)\n"
      ]
    },
    {
      "cell_type": "markdown",
      "metadata": {
        "id": "PLuBEYNK0Q6M"
      },
      "source": [
        "### Review: Functions Calling Functions\n",
        "Recall that when functions call other functions, they can be thought of as “stacking” up because when the called function returns, it goes back to the function that called it. To refresh your memory, here is a program with a few functions that call each other. Make sure you understand how program execution proceeds here:"
      ]
    },
    {
      "cell_type": "code",
      "execution_count": null,
      "metadata": {
        "id": "RSx_xL0y0q2B"
      },
      "outputs": [],
      "source": [
        "def standardize_response(response):\n",
        "    return response.strip().lower()\n",
        "\n",
        "\n",
        "def flexible_yes_or_no(response):\n",
        "    \"\"\"Recognizes many variations of yes or no.\n",
        "       Will return True if it recognized a yes and False if it recognized a no.\n",
        "       It will return None of neither one is recognized.\"\"\"\n",
        "    yes = ['yes', 'y', 'yup', 'yeah', 'yea', 'uh huh', 'uh-huh', 'sure', 'ok']\n",
        "    no = ['no', 'n', 'nope', 'nah', 'noo', 'nooo', 'uh uh', 'uh-uh']\n",
        "\n",
        "    standardized_response = standardize_response(response)\n",
        "    if standardized_response in yes:\n",
        "        return True\n",
        "    elif standardized_response in no:\n",
        "        return False\n",
        "    else:\n",
        "        return None\n",
        "\n",
        "\n",
        "yes_or_no = input('Say yes or no, your way: ')\n",
        "print(flexible_yes_or_no(yes_or_no))"
      ]
    },
    {
      "cell_type": "markdown",
      "metadata": {
        "id": "RrnFW15w3r6G"
      },
      "source": [
        "See the [stack in action via PythonTutor](https://pythontutor.com/visualize.html#code=def%20standardize_response%28response%29%3A%0A%20%20%20%20return%20response.strip%28%29.lower%28%29%0A%0A%0Adef%20flexible_yes_or_no%28response%29%3A%0A%20%20%20%20%22%22%22Recognizes%20many%20variations%20of%20yes%20or%20no.%0A%20%20%20%20%20%20%20Will%20return%20True%20if%20it%20recognized%20a%20yes%20and%20False%20if%20it%20recognized%20a%20no.%0A%20%20%20%20%20%20%20It%20will%20return%20None%20of%20neither%20one%20is%20recognized.%22%22%22%0A%20%20%20%20yes%20%3D%20%5B'yes',%20'y',%20'yup',%20'yeah',%20'yea',%20'uh%20huh',%20'uh-huh',%20'sure',%20'ok'%5D%0A%20%20%20%20no%20%3D%20%5B'no',%20'n',%20'nope',%20'nah',%20'noo',%20'nooo',%20'uh%20uh',%20'uh-uh'%5D%0A%0A%20%20%20%20standardized_response%20%3D%20standardize_response%28response%29%0A%20%20%20%20if%20standardized_response%20in%20yes%3A%0A%20%20%20%20%20%20%20%20return%20True%0A%20%20%20%20elif%20standardized_response%20in%20no%3A%0A%20%20%20%20%20%20%20%20return%20False%0A%20%20%20%20else%3A%0A%20%20%20%20%20%20%20%20return%20None%0A%0A%0Ayes_or_no%20%3D%20input%28'Say%20yes%20or%20no,%20your%20way%3A%20'%29%0Aprint%28flexible_yes_or_no%28yes_or_no%29%29&cumulative=false&heapPrimitives=nevernest&mode=edit&origin=opt-frontend.js&py=3&rawInputLstJSON=%5B%5D&textReferences=false)."
      ]
    },
    {
      "cell_type": "markdown",
      "metadata": {
        "id": "VwQPNN6e6QI_"
      },
      "source": [
        "### Recursive Palindrome Function Tracing\n",
        "\n",
        "A **recursive function** is a function that calls itself. Below, we have given you a recursive implementation of the `palindrome` function. Notice that we have a base case: when we are given an empty string or a single character, the function can return immediately without calling itself. Notice also the recursive case: this is when the function calls itself on a smaller string. Can you figure out what the smaller string should be? **Trace the behavior of your function on the strings \"noon\", \"tenet\", and \"treat\".** Can you trace these functions with what is being printed and using stack diagrams? *Remember that the stack diagrams will create a new box for each function call.*"
      ]
    },
    {
      "cell_type": "code",
      "execution_count": null,
      "metadata": {
        "id": "rz-jwUKp6cUJ"
      },
      "outputs": [],
      "source": [
        "# palidrome: Given a string, palindrome returns True\n",
        "# if the string is a palindrome and False otherwise\n",
        "# This is a recursive implementation because palindrome calls\n",
        "# itself.\n",
        "def palindrome(test):\n",
        "    print('Current input:', test)\n",
        "\n",
        "    # Base case for empty string or single character\n",
        "    if len(test) <= 1:\n",
        "        print('Base case: length 0 or 1')\n",
        "        return True\n",
        "\n",
        "    # Base case for when the first and last character are\n",
        "    # different so we know it cannot be a palindrome\n",
        "    elif test[0] != test[-1]:\n",
        "        print('Not palindrome: first and last chars differ')\n",
        "        return False\n",
        "\n",
        "    # Recursive case: we know valid palindrome so far so\n",
        "    # we need to look at the rest of the substring without\n",
        "    # the first and last character\n",
        "    print('ok so far')\n",
        "\n",
        "    # This recursive call passes a substring of test from the\n",
        "    # second character at index 1 to right before the last character\n",
        "    # at index -1\n",
        "    return palindrome(test[1:-1])\n",
        "\n",
        "print(palindrome('')) # Should return True\n",
        "print()\n",
        "print(palindrome('a')) # Should return True\n",
        "print()\n",
        "print(palindrome('bubble')) # Should return False\n",
        "print()\n",
        "print(palindrome('noon')) # Should return True\n",
        "print()\n",
        "print(palindrome('tenet')) # Should return True\n",
        "print()\n",
        "print(palindrome('treat')) # Should return False\n",
        "print()"
      ]
    },
    {
      "cell_type": "markdown",
      "metadata": {
        "id": "0PA2HcBPQDrf"
      },
      "source": [
        "**Do this:** Visualize the sequence of function calls made by `palindrome('engage')` either by hand or through PythonTutor. Upload the resulting stack diagram image to your notebook by uploading your image to your google drive, and make sure it's a public folder and get the shareable link by right-clicking on the picture and choose 'Get a sharable link'. You just need the id of the image so copy that (the id is between /d/ and /view). **There is a text cell below but it is invisible, you have to click below to make it show. Now paste the ID in the link below where it says \"PASTE ID HERE.\"**"
      ]
    },
    {
      "cell_type": "markdown",
      "metadata": {
        "id": "IWsmi94NWkKt"
      },
      "source": [
        "***\n",
        "![](https://drive.google.com/uc?export=view&id=PASTE_ID_HERE)\n",
        "***"
      ]
    },
    {
      "cell_type": "markdown",
      "metadata": {
        "id": "z5dJSnu-WkKt"
      },
      "source": [
        "**And Do this:**  Also supply a plain language explanation of what is happening in the text box below:"
      ]
    },
    {
      "cell_type": "markdown",
      "metadata": {
        "id": "lPupPwlKQdbv"
      },
      "source": [
        "***\n",
        "\n",
        "> Explain your uploaded stack diagram here.\n",
        "\n",
        "***"
      ]
    },
    {
      "cell_type": "markdown",
      "metadata": {
        "id": "dKL0LYd-E4JB"
      },
      "source": [
        "### (Optional) Reflections\n",
        "Add a text cell below to answer the following questions:\n",
        "1. What do you feel more confident about after completing this lab?\n",
        "2. What do you feel you can use more help with after completing this lab?\n",
        "3. Do you have any constructive suggestions on how we can help you or improve this lab?"
      ]
    },
    {
      "cell_type": "markdown",
      "metadata": {
        "id": "gB1aHDpyFYey"
      },
      "source": [
        "### Save your work to GitHub\n",
        "Please save this notebook to your lab repository."
      ]
    }
  ],
  "metadata": {
    "kernelspec": {
      "display_name": "Python 3",
      "language": "python",
      "name": "python3"
    },
    "language_info": {
      "codemirror_mode": {
        "name": "ipython",
        "version": 3
      },
      "file_extension": ".py",
      "mimetype": "text/x-python",
      "name": "python",
      "nbconvert_exporter": "python",
      "pygments_lexer": "ipython3",
      "version": "3.8.5"
    },
    "colab": {
      "provenance": []
    }
  },
  "nbformat": 4,
  "nbformat_minor": 0
}
